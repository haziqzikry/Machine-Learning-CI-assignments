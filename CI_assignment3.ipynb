{
 "cells": [
  {
   "attachments": {},
   "cell_type": "markdown",
   "metadata": {},
   "source": [
    "# SECJ3653-02 - Computational Intelligence - Lab Assignment 3 (MLP Classifier in Python)\n",
    "\n",
    " <h2 align=\"center\">\n",
    "  Group Members\n",
    "  <br>\n",
    "</h2>\n",
    "<p align=\"center\">\n",
    "<table align=\"center\">\n",
    "  <tr>\n",
    "    <th>Name</th>\n",
    "    <th>Matric No</th>\n",
    "  </tr>\n",
    "  <tr>\n",
    "    <th>MOHAMAD HAZIQ ZIKRY BIN MOHAMMAD RAZAK</th>\n",
    "    <th>A20EC0079</th>\n",
    "  </tr>\n",
    "    <tr>\n",
    "    <th>DZAKIRIN ASYRAFF BIN ZAMSARI </th>\n",
    "    <th>A20EC0030</th>\n",
    "  </tr>\n",
    "    <tr>\n",
    "    <th>MUHAMMAD ANIQ AQIL BIN AZRAI FAHMI</th>\n",
    "    <th>A20EC0083</th>\n",
    "  </tr>\n",
    "    <tr>\n",
    "    <th>MUHAMMAD NAIM BIN ABDUL JALIL </th>\n",
    "    <th>A20EC0096</th>\n",
    "  </tr>\n",
    "  </table>"
   ]
  },
  {
   "attachments": {},
   "cell_type": "markdown",
   "metadata": {},
   "source": [
    "For this program we, we used two ways to determine the accuracy of the MLP Classifier using the iris.arff dataset.\n",
    "- 10-fold cross validation\n",
    "- 80-20 split"
   ]
  },
  {
   "cell_type": "code",
   "execution_count": 178,
   "metadata": {},
   "outputs": [],
   "source": [
    "#import the necessary libraries\n",
    "import pandas as pd\n",
    "import numpy as np\n",
    "from sklearn.neural_network import MLPClassifier\n",
    "from sklearn.preprocessing import LabelEncoder\n",
    "from sklearn.model_selection import cross_val_score\n",
    "from sklearn.model_selection import cross_validate\n",
    "from sklearn.neural_network import MLPClassifier\n",
    "from sklearn.metrics import cohen_kappa_score, mean_absolute_error, mean_squared_error, mean_absolute_percentage_error, make_scorer\n",
    "from sklearn.metrics import classification_report\n",
    "from sklearn.model_selection import cross_val_predict\n",
    "from sklearn.metrics import confusion_matrix\n",
    "from sklearn.model_selection import train_test_split\n",
    "from scipy.io import arff"
   ]
  },
  {
   "cell_type": "code",
   "execution_count": 179,
   "metadata": {},
   "outputs": [],
   "source": [
    "# Load data from .arff file\n",
    "data, meta = arff.loadarff('C:\\Program Files\\Weka-3-8-6\\data/iris.arff')\n",
    "attributes = meta.names()[:-1] # Extract feature names from meta-data\n",
    "n_features = len(attributes)"
   ]
  },
  {
   "cell_type": "code",
   "execution_count": 180,
   "metadata": {},
   "outputs": [
    {
     "data": {
      "text/html": [
       "<div>\n",
       "<style scoped>\n",
       "    .dataframe tbody tr th:only-of-type {\n",
       "        vertical-align: middle;\n",
       "    }\n",
       "\n",
       "    .dataframe tbody tr th {\n",
       "        vertical-align: top;\n",
       "    }\n",
       "\n",
       "    .dataframe thead th {\n",
       "        text-align: right;\n",
       "    }\n",
       "</style>\n",
       "<table border=\"1\" class=\"dataframe\">\n",
       "  <thead>\n",
       "    <tr style=\"text-align: right;\">\n",
       "      <th></th>\n",
       "      <th>sepallength</th>\n",
       "      <th>sepalwidth</th>\n",
       "      <th>petallength</th>\n",
       "      <th>petalwidth</th>\n",
       "      <th>class</th>\n",
       "    </tr>\n",
       "  </thead>\n",
       "  <tbody>\n",
       "    <tr>\n",
       "      <th>0</th>\n",
       "      <td>5.1</td>\n",
       "      <td>3.5</td>\n",
       "      <td>1.4</td>\n",
       "      <td>0.2</td>\n",
       "      <td>b'Iris-setosa'</td>\n",
       "    </tr>\n",
       "    <tr>\n",
       "      <th>1</th>\n",
       "      <td>4.9</td>\n",
       "      <td>3.0</td>\n",
       "      <td>1.4</td>\n",
       "      <td>0.2</td>\n",
       "      <td>b'Iris-setosa'</td>\n",
       "    </tr>\n",
       "    <tr>\n",
       "      <th>2</th>\n",
       "      <td>4.7</td>\n",
       "      <td>3.2</td>\n",
       "      <td>1.3</td>\n",
       "      <td>0.2</td>\n",
       "      <td>b'Iris-setosa'</td>\n",
       "    </tr>\n",
       "    <tr>\n",
       "      <th>3</th>\n",
       "      <td>4.6</td>\n",
       "      <td>3.1</td>\n",
       "      <td>1.5</td>\n",
       "      <td>0.2</td>\n",
       "      <td>b'Iris-setosa'</td>\n",
       "    </tr>\n",
       "    <tr>\n",
       "      <th>4</th>\n",
       "      <td>5.0</td>\n",
       "      <td>3.6</td>\n",
       "      <td>1.4</td>\n",
       "      <td>0.2</td>\n",
       "      <td>b'Iris-setosa'</td>\n",
       "    </tr>\n",
       "    <tr>\n",
       "      <th>...</th>\n",
       "      <td>...</td>\n",
       "      <td>...</td>\n",
       "      <td>...</td>\n",
       "      <td>...</td>\n",
       "      <td>...</td>\n",
       "    </tr>\n",
       "    <tr>\n",
       "      <th>145</th>\n",
       "      <td>6.7</td>\n",
       "      <td>3.0</td>\n",
       "      <td>5.2</td>\n",
       "      <td>2.3</td>\n",
       "      <td>b'Iris-virginica'</td>\n",
       "    </tr>\n",
       "    <tr>\n",
       "      <th>146</th>\n",
       "      <td>6.3</td>\n",
       "      <td>2.5</td>\n",
       "      <td>5.0</td>\n",
       "      <td>1.9</td>\n",
       "      <td>b'Iris-virginica'</td>\n",
       "    </tr>\n",
       "    <tr>\n",
       "      <th>147</th>\n",
       "      <td>6.5</td>\n",
       "      <td>3.0</td>\n",
       "      <td>5.2</td>\n",
       "      <td>2.0</td>\n",
       "      <td>b'Iris-virginica'</td>\n",
       "    </tr>\n",
       "    <tr>\n",
       "      <th>148</th>\n",
       "      <td>6.2</td>\n",
       "      <td>3.4</td>\n",
       "      <td>5.4</td>\n",
       "      <td>2.3</td>\n",
       "      <td>b'Iris-virginica'</td>\n",
       "    </tr>\n",
       "    <tr>\n",
       "      <th>149</th>\n",
       "      <td>5.9</td>\n",
       "      <td>3.0</td>\n",
       "      <td>5.1</td>\n",
       "      <td>1.8</td>\n",
       "      <td>b'Iris-virginica'</td>\n",
       "    </tr>\n",
       "  </tbody>\n",
       "</table>\n",
       "<p>150 rows × 5 columns</p>\n",
       "</div>"
      ],
      "text/plain": [
       "     sepallength  sepalwidth  petallength  petalwidth              class\n",
       "0            5.1         3.5          1.4         0.2     b'Iris-setosa'\n",
       "1            4.9         3.0          1.4         0.2     b'Iris-setosa'\n",
       "2            4.7         3.2          1.3         0.2     b'Iris-setosa'\n",
       "3            4.6         3.1          1.5         0.2     b'Iris-setosa'\n",
       "4            5.0         3.6          1.4         0.2     b'Iris-setosa'\n",
       "..           ...         ...          ...         ...                ...\n",
       "145          6.7         3.0          5.2         2.3  b'Iris-virginica'\n",
       "146          6.3         2.5          5.0         1.9  b'Iris-virginica'\n",
       "147          6.5         3.0          5.2         2.0  b'Iris-virginica'\n",
       "148          6.2         3.4          5.4         2.3  b'Iris-virginica'\n",
       "149          5.9         3.0          5.1         1.8  b'Iris-virginica'\n",
       "\n",
       "[150 rows x 5 columns]"
      ]
     },
     "execution_count": 180,
     "metadata": {},
     "output_type": "execute_result"
    }
   ],
   "source": [
    "# Convert data to pandas dataframe format\n",
    "df = pd.DataFrame(data)\n",
    "\n",
    "# Display data as a table\n",
    "df"
   ]
  },
  {
   "cell_type": "code",
   "execution_count": 181,
   "metadata": {},
   "outputs": [
    {
     "data": {
      "text/html": [
       "<div>\n",
       "<style scoped>\n",
       "    .dataframe tbody tr th:only-of-type {\n",
       "        vertical-align: middle;\n",
       "    }\n",
       "\n",
       "    .dataframe tbody tr th {\n",
       "        vertical-align: top;\n",
       "    }\n",
       "\n",
       "    .dataframe thead th {\n",
       "        text-align: right;\n",
       "    }\n",
       "</style>\n",
       "<table border=\"1\" class=\"dataframe\">\n",
       "  <thead>\n",
       "    <tr style=\"text-align: right;\">\n",
       "      <th></th>\n",
       "      <th>sepallength</th>\n",
       "      <th>sepalwidth</th>\n",
       "      <th>petallength</th>\n",
       "      <th>petalwidth</th>\n",
       "    </tr>\n",
       "  </thead>\n",
       "  <tbody>\n",
       "    <tr>\n",
       "      <th>count</th>\n",
       "      <td>150.000000</td>\n",
       "      <td>150.000000</td>\n",
       "      <td>150.000000</td>\n",
       "      <td>150.000000</td>\n",
       "    </tr>\n",
       "    <tr>\n",
       "      <th>mean</th>\n",
       "      <td>5.843333</td>\n",
       "      <td>3.054000</td>\n",
       "      <td>3.758667</td>\n",
       "      <td>1.198667</td>\n",
       "    </tr>\n",
       "    <tr>\n",
       "      <th>std</th>\n",
       "      <td>0.828066</td>\n",
       "      <td>0.433594</td>\n",
       "      <td>1.764420</td>\n",
       "      <td>0.763161</td>\n",
       "    </tr>\n",
       "    <tr>\n",
       "      <th>min</th>\n",
       "      <td>4.300000</td>\n",
       "      <td>2.000000</td>\n",
       "      <td>1.000000</td>\n",
       "      <td>0.100000</td>\n",
       "    </tr>\n",
       "    <tr>\n",
       "      <th>25%</th>\n",
       "      <td>5.100000</td>\n",
       "      <td>2.800000</td>\n",
       "      <td>1.600000</td>\n",
       "      <td>0.300000</td>\n",
       "    </tr>\n",
       "    <tr>\n",
       "      <th>50%</th>\n",
       "      <td>5.800000</td>\n",
       "      <td>3.000000</td>\n",
       "      <td>4.350000</td>\n",
       "      <td>1.300000</td>\n",
       "    </tr>\n",
       "    <tr>\n",
       "      <th>75%</th>\n",
       "      <td>6.400000</td>\n",
       "      <td>3.300000</td>\n",
       "      <td>5.100000</td>\n",
       "      <td>1.800000</td>\n",
       "    </tr>\n",
       "    <tr>\n",
       "      <th>max</th>\n",
       "      <td>7.900000</td>\n",
       "      <td>4.400000</td>\n",
       "      <td>6.900000</td>\n",
       "      <td>2.500000</td>\n",
       "    </tr>\n",
       "  </tbody>\n",
       "</table>\n",
       "</div>"
      ],
      "text/plain": [
       "       sepallength  sepalwidth  petallength  petalwidth\n",
       "count   150.000000  150.000000   150.000000  150.000000\n",
       "mean      5.843333    3.054000     3.758667    1.198667\n",
       "std       0.828066    0.433594     1.764420    0.763161\n",
       "min       4.300000    2.000000     1.000000    0.100000\n",
       "25%       5.100000    2.800000     1.600000    0.300000\n",
       "50%       5.800000    3.000000     4.350000    1.300000\n",
       "75%       6.400000    3.300000     5.100000    1.800000\n",
       "max       7.900000    4.400000     6.900000    2.500000"
      ]
     },
     "execution_count": 181,
     "metadata": {},
     "output_type": "execute_result"
    }
   ],
   "source": [
    "df.describe()"
   ]
  },
  {
   "cell_type": "code",
   "execution_count": 182,
   "metadata": {},
   "outputs": [],
   "source": [
    "# Convert data to numpy array format\n",
    "X = np.zeros((len(data), n_features))\n",
    "y = []\n",
    "for i, instance in enumerate(data):\n",
    "    instance_data = []\n",
    "    for attr in attributes:\n",
    "        instance_data.append(instance[attr])\n",
    "    X[i,:] = instance_data\n",
    "    y.append(instance[-1])\n",
    "label_encoder = LabelEncoder()\n",
    "y = label_encoder.fit_transform(y)"
   ]
  },
  {
   "cell_type": "code",
   "execution_count": 183,
   "metadata": {},
   "outputs": [],
   "source": [
    "# Encode labels as integers\n",
    "label_encoder = LabelEncoder()\n",
    "y = label_encoder.fit_transform(y)"
   ]
  },
  {
   "attachments": {},
   "cell_type": "markdown",
   "metadata": {},
   "source": [
    "# MLP Classifier in Python"
   ]
  },
  {
   "cell_type": "code",
   "execution_count": 184,
   "metadata": {},
   "outputs": [],
   "source": [
    "# create an MLP classifier with two hidden layers of 10 and 5 neurons, respectively\n",
    "clf = MLPClassifier(hidden_layer_sizes=(10, 5), max_iter=2000, solver='adam', random_state=42)"
   ]
  },
  {
   "attachments": {},
   "cell_type": "markdown",
   "metadata": {},
   "source": [
    "### MLP Classifier using 10-fold cross validation"
   ]
  },
  {
   "cell_type": "code",
   "execution_count": 185,
   "metadata": {},
   "outputs": [
    {
     "name": "stdout",
     "output_type": "stream",
     "text": [
      "Correctly Classified Instances (CV): 97.33%\n",
      "Incorrectly Classified Instances (CV): 2.67%\n"
     ]
    }
   ],
   "source": [
    "# evaluate the performance of the model using 10-fold cross-validation\n",
    "cv_scores = cross_val_score(clf, X, y, cv=10)\n",
    "cv_correct_percent = np.mean(cv_scores) * 100\n",
    "cv_incorrect_percent = 100 - cv_correct_percent\n",
    "print('Correctly Classified Instances (CV): {:.2f}%'.format(cv_correct_percent))\n",
    "print('Incorrectly Classified Instances (CV): {:.2f}%'.format(cv_incorrect_percent))"
   ]
  },
  {
   "cell_type": "code",
   "execution_count": 186,
   "metadata": {},
   "outputs": [
    {
     "name": "stdout",
     "output_type": "stream",
     "text": [
      "Kappa statistic: 0.96 ± 0.07\n",
      "Mean absolute error: 0.03 ± 0.04\n",
      "Root mean squared error: 0.09 ± 0.14\n",
      "Relative absolute error: 0.02 ± 0.03\n"
     ]
    }
   ],
   "source": [
    "# Define evaluation metrics\n",
    "scoring = {'kappa': make_scorer(cohen_kappa_score), \n",
    "           'mae': make_scorer(mean_absolute_error), \n",
    "           'rmse': make_scorer(mean_squared_error, squared=False), \n",
    "           'rae': make_scorer(mean_absolute_percentage_error)\n",
    "           }\n",
    "\n",
    "# Perform 10-fold cross-validation and calculate evaluation metrics\n",
    "cv_results = cross_validate(clf, X, y, cv=10, scoring=scoring)\n",
    "\n",
    "# Extract evaluation metric scores\n",
    "kappa_scores = cv_results['test_kappa']\n",
    "mae_scores = cv_results['test_mae']\n",
    "rmse_scores = cv_results['test_rmse']\n",
    "rae_scores = cv_results['test_rae']\n",
    "# rrse_scores = cv_results['test_rrse']\n",
    "\n",
    "# Calculate mean and standard deviation of each metric\n",
    "kappa_mean, kappa_std = np.mean(kappa_scores), np.std(kappa_scores)\n",
    "mae_mean, mae_std = np.mean(mae_scores), np.std(mae_scores)\n",
    "rmse_mean, rmse_std = np.mean(rmse_scores), np.std(rmse_scores)\n",
    "rae_mean, rae_std = np.mean(rae_scores), np.std(rae_scores)\n",
    "# rrse_mean, rrse_std = np.mean(rrse_scores), np.std(rrse_scores)\n",
    "\n",
    "# Print out the results\n",
    "print('Kappa statistic: {:.2f} ± {:.2f}'.format(kappa_mean, kappa_std))\n",
    "print('Mean absolute error: {:.2f} ± {:.2f}'.format(mae_mean, mae_std))\n",
    "print('Root mean squared error: {:.2f} ± {:.2f}'.format(rmse_mean, rmse_std))\n",
    "print('Relative absolute error: {:.2f} ± {:.2f}'.format(rae_mean, rae_std))\n",
    "# print('Root relative squared error: {:.2f} ± {:.2f}'.format(rrse_mean, rrse_std))\n"
   ]
  },
  {
   "cell_type": "code",
   "execution_count": 187,
   "metadata": {},
   "outputs": [
    {
     "name": "stdout",
     "output_type": "stream",
     "text": [
      "=== Confusion Matrix ===\n",
      "  a  b  c   <-- classified as\n",
      " 50  0  0 |  a = Iris-setosa\n",
      "  0 48  2 |  b = Iris-versicolor\n",
      "  0  2 48 |  c = Iris-virginica\n"
     ]
    }
   ],
   "source": [
    "# perform 10-fold cross-validation and make predictions\n",
    "y_pred = cross_val_predict(clf, X, y, cv=10)\n",
    "\n",
    "# calculate confusion matrix\n",
    "cm = confusion_matrix(y, y_pred)\n",
    "\n",
    "# print out confusion matrix\n",
    "print(\"=== Confusion Matrix ===\")\n",
    "print(\"  a  b  c   <-- classified as\")\n",
    "print(f\" {cm[0][0]:>2d} {cm[0][1]:>2d} {cm[0][2]:>2d} |  a = Iris-setosa\")\n",
    "print(f\" {cm[1][0]:>2d} {cm[1][1]:>2d} {cm[1][2]:>2d} |  b = Iris-versicolor\")\n",
    "print(f\" {cm[2][0]:>2d} {cm[2][1]:>2d} {cm[2][2]:>2d} |  c = Iris-virginica\")\n"
   ]
  },
  {
   "attachments": {},
   "cell_type": "markdown",
   "metadata": {},
   "source": [
    "### MLP Classifier using training and testing data (80:20)"
   ]
  },
  {
   "cell_type": "code",
   "execution_count": 193,
   "metadata": {},
   "outputs": [],
   "source": [
    "# Split data into training and testing sets (80/20)\n",
    "X_train, X_test, y_train, y_test = train_test_split(X, y, test_size=0.2, random_state=42)\n"
   ]
  },
  {
   "cell_type": "code",
   "execution_count": 201,
   "metadata": {},
   "outputs": [
    {
     "name": "stdout",
     "output_type": "stream",
     "text": [
      "Correctly Classified Instances (test set): 29 (96.67%)\n",
      "Incorrectly Classified Instances (test set): 1 (3.33%)\n"
     ]
    },
    {
     "name": "stderr",
     "output_type": "stream",
     "text": [
      "c:\\Users\\HaziqZikry-T14\\anaconda3\\lib\\site-packages\\sklearn\\neural_network\\_multilayer_perceptron.py:684: ConvergenceWarning: Stochastic Optimizer: Maximum iterations (1000) reached and the optimization hasn't converged yet.\n",
      "  warnings.warn(\n"
     ]
    }
   ],
   "source": [
    "# train the MLP classifier on the training set\n",
    "clf = MLPClassifier(hidden_layer_sizes=(10,), max_iter=1000, random_state=42)\n",
    "clf.fit(X_train, y_train)\n",
    "\n",
    "# evaluate the performance of the model on the testing set\n",
    "y_pred = clf.predict(X_test)\n",
    "test_correct_percent = np.sum(y_pred == y_test) / len(y_test) * 100\n",
    "test_incorrect_percent = 100 - test_correct_percent\n",
    "print('Correctly Classified Instances (test set): {} ({:.2f}%)'.format(np.sum(y_pred == y_test), test_correct_percent))\n",
    "print('Incorrectly Classified Instances (test set): {} ({:.2f}%)'.format(np.sum(y_pred != y_test), test_incorrect_percent))\n"
   ]
  },
  {
   "cell_type": "code",
   "execution_count": 204,
   "metadata": {},
   "outputs": [
    {
     "name": "stdout",
     "output_type": "stream",
     "text": [
      "\n",
      "=== Confusion Matrix ===\n",
      "\n",
      "  a  b  c   <-- classified as\n",
      "  10  0  0 |  a = Iris-setosa\n",
      "  0  8  1 |  b = Iris-versicolor\n",
      "  0  0  11 |  c = Iris-virginica\n"
     ]
    }
   ],
   "source": [
    "# create confusion matrix for the testing set\n",
    "cm = confusion_matrix(y_test, y_pred)\n",
    "\n",
    "# print confusion matrix\n",
    "print('\\n=== Confusion Matrix ===\\n')\n",
    "print('  a  b  c   <-- classified as')\n",
    "print('  {}  {}  {} |  a = Iris-setosa'.format(cm[0][0], cm[0][1], cm[0][2]))\n",
    "print('  {}  {}  {} |  b = Iris-versicolor'.format(cm[1][0], cm[1][1], cm[1][2]))\n",
    "print('  {}  {}  {} |  c = Iris-virginica'.format(cm[2][0], cm[2][1], cm[2][2]))"
   ]
  },
  {
   "cell_type": "code",
   "execution_count": 190,
   "metadata": {},
   "outputs": [
    {
     "name": "stderr",
     "output_type": "stream",
     "text": [
      "c:\\Users\\HaziqZikry-T14\\anaconda3\\lib\\site-packages\\sklearn\\metrics\\_classification.py:1344: UndefinedMetricWarning: Precision and F-score are ill-defined and being set to 0.0 in labels with no predicted samples. Use `zero_division` parameter to control this behavior.\n",
      "  _warn_prf(average, modifier, msg_start, len(result))\n",
      "c:\\Users\\HaziqZikry-T14\\anaconda3\\lib\\site-packages\\sklearn\\metrics\\_classification.py:1344: UndefinedMetricWarning: Recall and F-score are ill-defined and being set to 0.0 in labels with no true samples. Use `zero_division` parameter to control this behavior.\n",
      "  _warn_prf(average, modifier, msg_start, len(result))\n",
      "c:\\Users\\HaziqZikry-T14\\anaconda3\\lib\\site-packages\\sklearn\\metrics\\_classification.py:1344: UndefinedMetricWarning: Precision and F-score are ill-defined and being set to 0.0 in labels with no predicted samples. Use `zero_division` parameter to control this behavior.\n",
      "  _warn_prf(average, modifier, msg_start, len(result))\n",
      "c:\\Users\\HaziqZikry-T14\\anaconda3\\lib\\site-packages\\sklearn\\metrics\\_classification.py:1344: UndefinedMetricWarning: Recall and F-score are ill-defined and being set to 0.0 in labels with no true samples. Use `zero_division` parameter to control this behavior.\n",
      "  _warn_prf(average, modifier, msg_start, len(result))\n",
      "c:\\Users\\HaziqZikry-T14\\anaconda3\\lib\\site-packages\\sklearn\\metrics\\_classification.py:1344: UndefinedMetricWarning: Precision and F-score are ill-defined and being set to 0.0 in labels with no predicted samples. Use `zero_division` parameter to control this behavior.\n",
      "  _warn_prf(average, modifier, msg_start, len(result))\n",
      "c:\\Users\\HaziqZikry-T14\\anaconda3\\lib\\site-packages\\sklearn\\metrics\\_classification.py:1344: UndefinedMetricWarning: Recall and F-score are ill-defined and being set to 0.0 in labels with no true samples. Use `zero_division` parameter to control this behavior.\n",
      "  _warn_prf(average, modifier, msg_start, len(result))\n"
     ]
    }
   ],
   "source": [
    "#Output classification report \n",
    "\n",
    "#Get all possible classes\n",
    "classes = list(set(y_train) | set(y_test))\n",
    "\n",
    "# Generate classification report on testing data\n",
    "y_pred = clf.predict(X_test)\n",
    "report = classification_report(y_test, y_pred, labels=classes)"
   ]
  },
  {
   "cell_type": "code",
   "execution_count": 205,
   "metadata": {},
   "outputs": [
    {
     "name": "stdout",
     "output_type": "stream",
     "text": [
      "Classification report:\n",
      "\n",
      "              precision    recall  f1-score   support\n",
      "\n",
      "           0       0.00      0.00      0.00         0\n",
      "           1       0.00      0.00      0.00         0\n",
      "           2       1.00      0.80      0.89        30\n",
      "\n",
      "   micro avg       0.80      0.80      0.80        30\n",
      "   macro avg       0.33      0.27      0.30        30\n",
      "weighted avg       1.00      0.80      0.89        30\n",
      "\n"
     ]
    }
   ],
   "source": [
    "# Print classification report\n",
    "# 0 - Iris-setosa, 1 - Iris-versicolor, 2 - Iris-virginicaa\n",
    "print(\"Classification report:\\n\")\n",
    "print(report)"
   ]
  }
 ],
 "metadata": {
  "kernelspec": {
   "display_name": "base",
   "language": "python",
   "name": "python3"
  },
  "language_info": {
   "codemirror_mode": {
    "name": "ipython",
    "version": 3
   },
   "file_extension": ".py",
   "mimetype": "text/x-python",
   "name": "python",
   "nbconvert_exporter": "python",
   "pygments_lexer": "ipython3",
   "version": "3.10.9"
  },
  "orig_nbformat": 4
 },
 "nbformat": 4,
 "nbformat_minor": 2
}
